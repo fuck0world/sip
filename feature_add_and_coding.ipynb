{
 "cells": [
  {
   "cell_type": "code",
   "execution_count": 1,
   "metadata": {
    "collapsed": true
   },
   "outputs": [],
   "source": [
    "import pandas as pd\n",
    "import numpy as np"
   ]
  },
  {
   "cell_type": "code",
   "execution_count": 2,
   "metadata": {},
   "outputs": [
    {
     "name": "stderr",
     "output_type": "stream",
     "text": [
      "C:\\Users\\ppxx\\Anaconda3\\envs\\tensorflow\\lib\\site-packages\\IPython\\core\\interactiveshell.py:2698: DtypeWarning: Columns (16,17) have mixed types. Specify dtype option on import or set low_memory=False.\n",
      "  interactivity=interactivity, compiler=compiler, result=result)\n"
     ]
    }
   ],
   "source": [
    "raw_data = pd.read_csv('E:\\\\data\\\\sip\\\\raw_data.csv')\n",
    "raw_data = raw_data.loc[:, ~raw_data.columns.str.contains('^Unnamed')]"
   ]
  },
  {
   "cell_type": "code",
   "execution_count": null,
   "metadata": {
    "collapsed": true
   },
   "outputs": [],
   "source": [
    "raw_data.info()"
   ]
  },
  {
   "cell_type": "code",
   "execution_count": 3,
   "metadata": {},
   "outputs": [
    {
     "name": "stderr",
     "output_type": "stream",
     "text": [
      "C:\\Users\\ppxx\\Anaconda3\\envs\\tensorflow\\lib\\site-packages\\pandas\\core\\indexing.py:179: SettingWithCopyWarning: \n",
      "A value is trying to be set on a copy of a slice from a DataFrame\n",
      "\n",
      "See the caveats in the documentation: http://pandas.pydata.org/pandas-docs/stable/indexing.html#indexing-view-versus-copy\n",
      "  self._setitem_with_indexer(indexer, value)\n"
     ]
    }
   ],
   "source": [
    "raw_data['VIDEO_CLARITY'].loc[raw_data['VIDEO_CLARITY'] == 240] = 1\n",
    "raw_data['VIDEO_CLARITY'].loc[raw_data['VIDEO_CLARITY'] == 360] = 2\n",
    "raw_data['VIDEO_CLARITY'].loc[raw_data['VIDEO_CLARITY'] == 720] = 3\n",
    "raw_data['VIDEO_CLARITY'].loc[raw_data['VIDEO_CLARITY'] == 1080] = 4\n",
    "raw_data['VIDEO_CLARITY'].loc[raw_data['VIDEO_CLARITY'] == 800] = 0\n",
    "raw_data['VIDEO_CLARITY'].loc[raw_data['VIDEO_CLARITY'] == 808] = 0\n",
    "raw_data_1 = raw_data[-raw_data.VIDEO_CLARITY.isin([0])]\n",
    "raw_data_1 = raw_data.reset_index(drop = True)\n",
    "\n",
    "raw_data_1['PIXEL_NUMBER'] = raw_data_1['SCREEN_RESOLUTION_LONG'] * raw_data_1['SCREEN_RESOLUTION_WIDTH']\n",
    "raw_data_1['BATTERY_LOSS'] = raw_data_1['PHONE_ELECTRIC_START'] - raw_data_1['PHONE_ELECTRIC_END']\n",
    "\n",
    "stalling_num = raw_data_1['VIDEO_STALLING_NUM']\n",
    "stalling_total_time = raw_data_1['VIDEO_STALLING_TOTAL_TIME']\n",
    "mean = []\n",
    "for i in range(len(stalling_num)):\n",
    "    if stalling_num[i] != 0:\n",
    "        mean.append(stalling_total_time[i] / stalling_num[i])\n",
    "    else:\n",
    "        mean.append(0)\n",
    "raw_data_1['MEAN_STALLING_DURATION'] = mean\n",
    "                          \n",
    "raw_data_1['ALL_DOWNLOAD_BIT'] = raw_data_1['VIDEO_PLAY_TOTAL_TIME'] * raw_data_1['VIDEO_AVERAGE_RATE']\n",
    "raw_data_1['VIDEO_SIZE'] = raw_data_1['VIDEO_TOTAL_TIME'] * raw_data_1['VIDEO_BITRATE']"
   ]
  },
  {
   "cell_type": "code",
   "execution_count": null,
   "metadata": {
    "collapsed": true
   },
   "outputs": [],
   "source": [
    "raw_data_1.info()"
   ]
  },
  {
   "cell_type": "code",
   "execution_count": null,
   "metadata": {
    "collapsed": true
   },
   "outputs": [],
   "source": []
  },
  {
   "cell_type": "code",
   "execution_count": null,
   "metadata": {
    "collapsed": true
   },
   "outputs": [],
   "source": []
  },
  {
   "cell_type": "code",
   "execution_count": 4,
   "metadata": {},
   "outputs": [
    {
     "name": "stderr",
     "output_type": "stream",
     "text": [
      "C:\\Users\\ppxx\\Anaconda3\\envs\\tensorflow\\lib\\site-packages\\ipykernel_launcher.py:9: SettingWithCopyWarning: \n",
      "A value is trying to be set on a copy of a slice from a DataFrame\n",
      "\n",
      "See the caveats in the documentation: http://pandas.pydata.org/pandas-docs/stable/indexing.html#indexing-view-versus-copy\n",
      "  if __name__ == '__main__':\n",
      "C:\\Users\\ppxx\\Anaconda3\\envs\\tensorflow\\lib\\site-packages\\ipykernel_launcher.py:7: SettingWithCopyWarning: \n",
      "A value is trying to be set on a copy of a slice from a DataFrame\n",
      "\n",
      "See the caveats in the documentation: http://pandas.pydata.org/pandas-docs/stable/indexing.html#indexing-view-versus-copy\n",
      "  import sys\n"
     ]
    }
   ],
   "source": [
    "raw_data_1 = raw_data_1.drop('SIGNAL_STRENGTH', 1)\n",
    "a = raw_data_1.loc[:,'PING_AVG_RTT']\n",
    "\n",
    "for i in range(len(a)):\n",
    "    if type(a[i]) == str:\n",
    "        if 'ms' in a[i]:\n",
    "            a[i] = a[i].strip('ms')\n",
    "        if '.' in a[i]:\n",
    "            a[i] = float(a[i])\n",
    "raw_data_1.loc[:,'PING_AVG_RTT'] = a"
   ]
  },
  {
   "cell_type": "code",
   "execution_count": 5,
   "metadata": {},
   "outputs": [
    {
     "name": "stderr",
     "output_type": "stream",
     "text": [
      "C:\\Users\\ppxx\\Anaconda3\\envs\\tensorflow\\lib\\site-packages\\pandas\\core\\indexing.py:179: SettingWithCopyWarning: \n",
      "A value is trying to be set on a copy of a slice from a DataFrame\n",
      "\n",
      "See the caveats in the documentation: http://pandas.pydata.org/pandas-docs/stable/indexing.html#indexing-view-versus-copy\n",
      "  self._setitem_with_indexer(indexer, value)\n"
     ]
    }
   ],
   "source": [
    "phone = raw_data_1['PHONE_VERSION'].tolist()\n",
    "\n",
    "phone_name = ['IPHONE', 'XIAOMI', 'HUAWEI', 'HONOR', 'VIVO', 'OPPO', \n",
    "              'LENOVO', 'COOLPAD','SAMSUNG', 'MEIZU', 'LE','GIONEE' ,'ONEPLUS' ,'360',\n",
    "              'K-TOUCH', 'KOPO', 'NOKIA', 'SONY','NUBIA', 'SMARTISAN', 'MOTOROLA', 'ZTE']\n",
    "'''\n",
    "phone_name = ['IPHONE', 'XIAOMI', 'HUAWEI', 'HONOR', 'VIVO', 'OPPO', \n",
    "              'SAMSUNG', 'MEIZU','SMARTISAN']\n",
    "'''\n",
    "\n",
    "for index, name in enumerate(phone):\n",
    "    for i in range(len(phone_name)):\n",
    "        if phone_name[i] in name.upper():\n",
    "            phone[index] = phone_name[i]\n",
    "raw_data_1['PHONE_VERSION'] = phone\n",
    "\n",
    "data = raw_data_1\n",
    "phone_brand = ['HUAWEI', 'IPHONE', 'XIAOMI', 'OPPO', 'SAMSUNG', 'VIVO', 'MEIZU', 'SMARTISAN']\n",
    "data['PHONE_VERSION'].loc[data['PHONE_VERSION'] == 'HUAWEI'] = 1\n",
    "data['PHONE_VERSION'].loc[data['PHONE_VERSION'] == 'HONOR'] = 1\n",
    "\n",
    "data['PHONE_VERSION'].loc[data['PHONE_VERSION'] == 'IPHONE'] = 2\n",
    "data['PHONE_VERSION'].loc[data['PHONE_VERSION'] == 'XIAOMI'] = 3\n",
    "data['PHONE_VERSION'].loc[data['PHONE_VERSION'] == 'OPPO'] = 4\n",
    "data['PHONE_VERSION'].loc[data['PHONE_VERSION'] == 'SAMSUNG'] = 5\n",
    "data['PHONE_VERSION'].loc[data['PHONE_VERSION'] == 'VIVO'] = 6\n",
    "data['PHONE_VERSION'].loc[data['PHONE_VERSION'] == 'MEIZU'] = 7\n",
    "data['PHONE_VERSION'].loc[data['PHONE_VERSION'] == 'SMARTISAN'] = 8\n",
    "\n",
    "a = []\n",
    "for index, num in enumerate(data['PHONE_VERSION']):\n",
    "    if type(num) == int:\n",
    "        a.append(True)\n",
    "    else:\n",
    "        a.append(False)\n",
    "        \n",
    "data_1 = data[a]"
   ]
  },
  {
   "cell_type": "code",
   "execution_count": null,
   "metadata": {
    "collapsed": true
   },
   "outputs": [],
   "source": [
    "data_1.info()"
   ]
  },
  {
   "cell_type": "code",
   "execution_count": null,
   "metadata": {
    "collapsed": true
   },
   "outputs": [],
   "source": [
    "data_1['PHONE_VERSION'].value_counts()"
   ]
  },
  {
   "cell_type": "code",
   "execution_count": null,
   "metadata": {
    "collapsed": true
   },
   "outputs": [],
   "source": [
    "data_1['PHONE_VERSION']"
   ]
  },
  {
   "cell_type": "code",
   "execution_count": null,
   "metadata": {
    "collapsed": true
   },
   "outputs": [],
   "source": [
    "/81173"
   ]
  },
  {
   "cell_type": "code",
   "execution_count": null,
   "metadata": {
    "collapsed": true
   },
   "outputs": [],
   "source": [
    "data_1.to_csv('E:\\\\data\\\\sip\\\\feature_processing.csv')"
   ]
  },
  {
   "cell_type": "code",
   "execution_count": null,
   "metadata": {
    "collapsed": true
   },
   "outputs": [],
   "source": []
  }
 ],
 "metadata": {
  "kernelspec": {
   "display_name": "Python 3",
   "language": "python",
   "name": "python3"
  },
  "language_info": {
   "codemirror_mode": {
    "name": "ipython",
    "version": 3
   },
   "file_extension": ".py",
   "mimetype": "text/x-python",
   "name": "python",
   "nbconvert_exporter": "python",
   "pygments_lexer": "ipython3",
   "version": "3.5.4"
  }
 },
 "nbformat": 4,
 "nbformat_minor": 2
}

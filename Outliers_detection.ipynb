{
 "cells": [
  {
   "cell_type": "code",
   "execution_count": 1,
   "metadata": {
    "collapsed": true
   },
   "outputs": [],
   "source": [
    "import pandas as pd\n",
    "from sklearn.neighbors import LocalOutlierFactor\n",
    "import matplotlib.pyplot as plt\n",
    "import numpy as np"
   ]
  },
  {
   "cell_type": "code",
   "execution_count": 2,
   "metadata": {
    "collapsed": true
   },
   "outputs": [],
   "source": [
    "data = pd.read_csv('E:\\\\data\\\\sip\\\\after_LOF.csv')"
   ]
  },
  {
   "cell_type": "code",
   "execution_count": 3,
   "metadata": {},
   "outputs": [
    {
     "name": "stdout",
     "output_type": "stream",
     "text": [
      "<class 'pandas.core.frame.DataFrame'>\n",
      "RangeIndex: 39555 entries, 0 to 39554\n",
      "Data columns (total 28 columns):\n",
      "Unnamed: 0                   39555 non-null int64\n",
      "SCREEN_RESOLUTION_LONG       39555 non-null float64\n",
      "SCREEN_RESOLUTION_WIDTH      39555 non-null float64\n",
      "VIDEO_CLARITY                39555 non-null int64\n",
      "VIDEO_BITRATE                39555 non-null int64\n",
      "INITIAL_DELAY                39555 non-null int64\n",
      "INITIAL_DELAY_PEAK_RATE      39555 non-null float64\n",
      "VIDEO_STALLING_NUM           39555 non-null int64\n",
      "VIDEO_STALLING_TOTAL_TIME    39555 non-null int64\n",
      "VIDEO_TOTAL_TIME             39555 non-null float64\n",
      "VIDEO_PLAY_TOTAL_TIME        39555 non-null int64\n",
      "VIDEO_ALL_PEAK_RATE          39555 non-null int64\n",
      "VIDEO_AVERAGE_RATE           39555 non-null int64\n",
      "PHONE_ELECTRIC_START         39555 non-null int64\n",
      "PHONE_ELECTRIC_END           39555 non-null int64\n",
      "PHONE_VERSION                39555 non-null int64\n",
      "PING_AVG_RTT                 39555 non-null float64\n",
      "USER_SCORE                   39555 non-null float64\n",
      "ELOADING                     39555 non-null float64\n",
      "ESTALLING                    39555 non-null float64\n",
      "EVMOS                        39555 non-null float64\n",
      "PIXEL_NUMBER                 39555 non-null float64\n",
      "BATTERY_LOSS                 39555 non-null int64\n",
      "MEAN_STALLING_DURATION       39555 non-null float64\n",
      "ALL_DOWNLOAD_BIT             39555 non-null int64\n",
      "VIDEO_SIZE                   39555 non-null float64\n",
      "k distances                  39555 non-null float64\n",
      "local outlier factor         39555 non-null float64\n",
      "dtypes: float64(14), int64(14)\n",
      "memory usage: 8.4 MB\n"
     ]
    }
   ],
   "source": [
    "data.info()"
   ]
  },
  {
   "cell_type": "code",
   "execution_count": 4,
   "metadata": {
    "collapsed": true
   },
   "outputs": [],
   "source": [
    "data = pd.read_csv('E:\\\\data\\\\sip\\\\feature_processing.csv')\n",
    "data = data.loc[:, ~data.columns.str.contains('^Unnamed')]\n",
    "data = data.dropna()\n",
    "data = data.reset_index(drop = True)"
   ]
  },
  {
   "cell_type": "code",
   "execution_count": null,
   "metadata": {
    "collapsed": true
   },
   "outputs": [],
   "source": []
  },
  {
   "cell_type": "code",
   "execution_count": 15,
   "metadata": {
    "collapsed": true
   },
   "outputs": [],
   "source": [
    "def lof(data, predict=None, k=5, method=1, plot=False):\n",
    "    \n",
    "    # 判断是否传入测试数据，若没有传入则测试数据赋值为训练数据\n",
    "    try:\n",
    "        if predict == None:\n",
    "            predict = data.copy()\n",
    "    except Exception:\n",
    "        pass\n",
    "    predict = pd.DataFrame(predict)\n",
    "    # 计算 LOF 离群因子\n",
    "    clf = LocalOutlierFactor(n_neighbors=k + 1, algorithm='auto', contamination=0.1, n_jobs=-1)\n",
    "    clf.fit(data)\n",
    "    # 记录 k 邻域距离\n",
    "    predict['k distances'] = clf.kneighbors(predict)[0].max(axis=1)\n",
    "    # 记录 LOF 离群因子，做相反数处理\n",
    "    predict['local outlier factor'] = -clf._decision_function(predict.iloc[:, :-1])\n",
    "    # 根据阈值划分离群点与正常点\n",
    "    outliers = predict[predict['local outlier factor'] > method].sort_values(by='local outlier factor')\n",
    "    inliers = predict[predict['local outlier factor'] <= method].sort_values(by='local outlier factor')\n",
    "    return outliers, inliers"
   ]
  },
  {
   "cell_type": "code",
   "execution_count": 16,
   "metadata": {
    "collapsed": true
   },
   "outputs": [],
   "source": [
    "outliers, inliers = lof(data)"
   ]
  },
  {
   "cell_type": "code",
   "execution_count": 18,
   "metadata": {
    "collapsed": true
   },
   "outputs": [],
   "source": [
    "data_1 = outliers.reset_index(drop = True)"
   ]
  },
  {
   "cell_type": "code",
   "execution_count": 27,
   "metadata": {
    "collapsed": true
   },
   "outputs": [],
   "source": [
    "data_1 = data_1[data_1['EVMOS'] != 0]"
   ]
  },
  {
   "cell_type": "code",
   "execution_count": 29,
   "metadata": {
    "collapsed": true
   },
   "outputs": [],
   "source": [
    "data_1 = data_1[data_1['USER_SCORE'] != 0]"
   ]
  },
  {
   "cell_type": "code",
   "execution_count": 30,
   "metadata": {
    "collapsed": true
   },
   "outputs": [],
   "source": [
    "data_1 = data_1[data_1['ELOADING'] != 0]\n",
    "data_1 = data_1[data_1['ESTALLING'] != 0]"
   ]
  },
  {
   "cell_type": "code",
   "execution_count": 31,
   "metadata": {},
   "outputs": [
    {
     "data": {
      "text/plain": [
       "5.0    30446\n",
       "4.0     4760\n",
       "3.0     2552\n",
       "1.0      917\n",
       "2.0      880\n",
       "Name: ESTALLING, dtype: int64"
      ]
     },
     "execution_count": 31,
     "metadata": {},
     "output_type": "execute_result"
    }
   ],
   "source": [
    "data_1['ESTALLING'].value_counts()"
   ]
  },
  {
   "cell_type": "code",
   "execution_count": 32,
   "metadata": {},
   "outputs": [
    {
     "data": {
      "text/plain": [
       "5.0    28289\n",
       "4.0     5729\n",
       "3.0     3325\n",
       "2.0     1164\n",
       "1.0     1048\n",
       "Name: ELOADING, dtype: int64"
      ]
     },
     "execution_count": 32,
     "metadata": {},
     "output_type": "execute_result"
    }
   ],
   "source": [
    "data_1['ELOADING'].value_counts()"
   ]
  },
  {
   "cell_type": "code",
   "execution_count": 33,
   "metadata": {},
   "outputs": [
    {
     "data": {
      "text/plain": [
       "5.0    28880\n",
       "4.0     5538\n",
       "3.0     3347\n",
       "2.0      958\n",
       "1.0      832\n",
       "Name: USER_SCORE, dtype: int64"
      ]
     },
     "execution_count": 33,
     "metadata": {},
     "output_type": "execute_result"
    }
   ],
   "source": [
    "data_1['USER_SCORE'].value_counts()"
   ]
  },
  {
   "cell_type": "code",
   "execution_count": 35,
   "metadata": {},
   "outputs": [
    {
     "data": {
      "text/plain": [
       "5.0    27871\n",
       "4.0     6395\n",
       "3.0     3571\n",
       "2.0      863\n",
       "1.0      855\n",
       "Name: EVMOS, dtype: int64"
      ]
     },
     "execution_count": 35,
     "metadata": {},
     "output_type": "execute_result"
    }
   ],
   "source": [
    "data_1['EVMOS'].value_counts()"
   ]
  },
  {
   "cell_type": "code",
   "execution_count": 36,
   "metadata": {
    "collapsed": true
   },
   "outputs": [],
   "source": [
    "data_1.to_csv('E:\\\\data\\\\sip\\\\after_LOF.csv')"
   ]
  },
  {
   "cell_type": "code",
   "execution_count": null,
   "metadata": {
    "collapsed": true
   },
   "outputs": [],
   "source": []
  }
 ],
 "metadata": {
  "kernelspec": {
   "display_name": "Python 3",
   "language": "python",
   "name": "python3"
  },
  "language_info": {
   "codemirror_mode": {
    "name": "ipython",
    "version": 3
   },
   "file_extension": ".py",
   "mimetype": "text/x-python",
   "name": "python",
   "nbconvert_exporter": "python",
   "pygments_lexer": "ipython3",
   "version": "3.5.4"
  }
 },
 "nbformat": 4,
 "nbformat_minor": 2
}

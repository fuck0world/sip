{
 "cells": [
  {
   "cell_type": "code",
   "execution_count": 1,
   "metadata": {
    "collapsed": true
   },
   "outputs": [],
   "source": [
    "# -*- coding: utf-8 -*-\n",
    "import xlrd\n",
    "import pandas as pd\n",
    "import numpy as np\n",
    "import matplotlib.pyplot as plt\n",
    "import os\n",
    "\n",
    "# 将根目录下的所有表格读入\n",
    "def load_data(root_path):\n",
    "    file_list = os.listdir(root_path)\n",
    "    file_num = len(file_list)\n",
    "    df = pd.DataFrame()\n",
    "    for i in range(file_num):\n",
    "        temp = pd.DataFrame(pd.read_excel(root_path + file_list[i]))\n",
    "        df = pd.concat([df,temp], ignore_index = True)\n",
    "    return df\n",
    "\n",
    "rootdir_1 = 'E:\\\\备份\\\\训练数据汇总(8W)\\\\四川\\\\'\n",
    "rootdir_2 = 'E:\\\\备份\\\\训练数据汇总(8W)\\\\南京\\\\'\n",
    "df_1 = load_data(rootdir_1)\n",
    "df_2 = load_data(rootdir_2)\n",
    "\n",
    "head_1 = df_1.columns.values.tolist()\n",
    "head_2 = df_2.columns.values.tolist()\n",
    "interSection = [val for val in head_1 if val in head_2]\n",
    "different_21 = list(set(head_2).difference(set(head_1)))\n",
    "different_12 = list(set(head_1).difference(set(head_2)))\n",
    "\n",
    "data_1 = df_1[['SCREEN_RESOLUTION_LONG', 'SCREEN_RESOLUTION_WIDTH', 'VIDEO_CLARITY', 'VIDEO_BITRATE',\n",
    "            'BUFFERING_DELAY', 'VIDEO_BUFFERING_PEAK_RATE', 'VIDEO_REBUFF_NUM', 'VIDEO_REBUFF_TOTAL_TIME',\n",
    "            'VIDEO_TOTAL_TIME', 'VIDEO_PLAY_TOTAL_TIME', 'VIDEO_ALL_PEAK_RATE', 'VIDEO_AVERAGE_RATE', \n",
    "            'PHONE_PLACE_STATE', 'ENVIRONMENTAL_NOISE', 'NETWORK_TYPE', 'MCC', 'USERBUFFERTIME',\n",
    "            'GPS_LONGITUDE_FIVE', 'INSTAN_DOWNLOAD_SPEED', 'USER_SCORE', 'USER_NAME']]\n",
    "data_2 = df_2[['SCREEN_RESOLUTION_LONG', 'SCREEN_RESOLUTION_WIDTH', 'VIDEO_CLARITY', 'VIDEO_BITRATE',\n",
    "            'BUFFERING_DELAY', 'VIDEO_PEAK_RATE', 'VIDEO_KA_NUM', 'VIDEO_KA_TOTAL_TIME', \n",
    "            'VIDEO_TOTAL_TIME', 'VIDEO_PLAY_TOTAL_TIME', 'VIDEO_ALL_PEAK_RATE', 'VIDEO_AVERAGE_PEAK_RATE',\n",
    "            'PHONE_ELECTRIC_START', 'PHONE_ELECTRIC_END', 'PHONE_VERSION', 'PING_AVG_RTT', 'SIGNAL_STRENGTH',\n",
    "            'USER_SCORE', 'ELOADING', 'ESTALLING', 'EVMOS']]\n",
    "\n",
    "column_name = ['SCREEN_RESOLUTION_LONG', 'SCREEN_RESOLUTION_WIDTH', 'VIDEO_CLARITY', 'VIDEO_BITRATE',\n",
    "            'INITIAL_DELAY', 'INITIAL_DELAY_PEAK_RATE', 'VIDEO_STALLING_NUM', 'VIDEO_STALLING_TOTAL_TIME', \n",
    "            'VIDEO_TOTAL_TIME', 'VIDEO_PLAY_TOTAL_TIME', 'VIDEO_ALL_PEAK_RATE', 'VIDEO_AVERAGE_RATE',\n",
    "            'PHONE_ELECTRIC_START', 'PHONE_ELECTRIC_END', 'PHONE_VERSION', 'PING_AVG_RTT', 'SIGNAL_STRENGTH',\n",
    "            'USER_SCORE', 'ELOADING', 'ESTALLING', 'EVMOS']\n",
    "data_1.columns = column_name\n",
    "data_2.columns = column_name\n",
    "\n",
    "raw_data = pd.concat([data_1,data_2], axis = 0)\n",
    "raw_data = raw_data.reset_index(drop = True)"
   ]
  },
  {
   "cell_type": "code",
   "execution_count": 2,
   "metadata": {
    "collapsed": true
   },
   "outputs": [],
   "source": [
    "raw_data.to_csv('E:\\\\data\\\\sip\\\\raw_data.csv')"
   ]
  },
  {
   "cell_type": "code",
   "execution_count": null,
   "metadata": {
    "collapsed": true
   },
   "outputs": [],
   "source": []
  }
 ],
 "metadata": {
  "kernelspec": {
   "display_name": "Python 3",
   "language": "python",
   "name": "python3"
  },
  "language_info": {
   "codemirror_mode": {
    "name": "ipython",
    "version": 3
   },
   "file_extension": ".py",
   "mimetype": "text/x-python",
   "name": "python",
   "nbconvert_exporter": "python",
   "pygments_lexer": "ipython3",
   "version": "3.5.4"
  }
 },
 "nbformat": 4,
 "nbformat_minor": 2
}
